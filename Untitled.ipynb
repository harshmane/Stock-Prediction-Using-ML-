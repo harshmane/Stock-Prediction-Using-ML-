{
 "cells": [
  {
   "cell_type": "code",
   "execution_count": 3,
   "metadata": {},
   "outputs": [],
   "source": [
    "import quandl\n",
    "import numpy as np\n",
    "import matplotlib.pyplot as plt\n",
    "%matplotlib inline\n",
    "from sklearn.linear_model import LinearRegression\n",
    "from sklearn.svm import SVR\n",
    "from sklearn.model_selection import train_test_split"
   ]
  },
  {
   "cell_type": "code",
   "execution_count": 4,
   "metadata": {},
   "outputs": [],
   "source": [
    "data=quandl.get(\"BSE/BOM500180\", authtoken=\"BpykXDq3HaL3TM77Mtjd\")"
   ]
  },
  {
   "cell_type": "code",
   "execution_count": 5,
   "metadata": {},
   "outputs": [
    {
     "data": {
      "text/html": [
       "<div>\n",
       "<style scoped>\n",
       "    .dataframe tbody tr th:only-of-type {\n",
       "        vertical-align: middle;\n",
       "    }\n",
       "\n",
       "    .dataframe tbody tr th {\n",
       "        vertical-align: top;\n",
       "    }\n",
       "\n",
       "    .dataframe thead th {\n",
       "        text-align: right;\n",
       "    }\n",
       "</style>\n",
       "<table border=\"1\" class=\"dataframe\">\n",
       "  <thead>\n",
       "    <tr style=\"text-align: right;\">\n",
       "      <th></th>\n",
       "      <th>Open</th>\n",
       "      <th>High</th>\n",
       "      <th>Low</th>\n",
       "      <th>Close</th>\n",
       "      <th>WAP</th>\n",
       "      <th>No. of Shares</th>\n",
       "      <th>No. of Trades</th>\n",
       "      <th>Total Turnover</th>\n",
       "      <th>Deliverable Quantity</th>\n",
       "      <th>% Deli. Qty to Traded Qty</th>\n",
       "      <th>Spread H-L</th>\n",
       "      <th>Spread C-O</th>\n",
       "    </tr>\n",
       "    <tr>\n",
       "      <th>Date</th>\n",
       "      <th></th>\n",
       "      <th></th>\n",
       "      <th></th>\n",
       "      <th></th>\n",
       "      <th></th>\n",
       "      <th></th>\n",
       "      <th></th>\n",
       "      <th></th>\n",
       "      <th></th>\n",
       "      <th></th>\n",
       "      <th></th>\n",
       "      <th></th>\n",
       "    </tr>\n",
       "  </thead>\n",
       "  <tbody>\n",
       "    <tr>\n",
       "      <th>1995-05-26</th>\n",
       "      <td>42.00</td>\n",
       "      <td>45.00</td>\n",
       "      <td>38.50</td>\n",
       "      <td>40.00</td>\n",
       "      <td>0.000000</td>\n",
       "      <td>0.0</td>\n",
       "      <td>0.0</td>\n",
       "      <td>0.0</td>\n",
       "      <td>NaN</td>\n",
       "      <td>NaN</td>\n",
       "      <td>6.50</td>\n",
       "      <td>-2.00</td>\n",
       "    </tr>\n",
       "    <tr>\n",
       "      <th>1995-05-29</th>\n",
       "      <td>39.00</td>\n",
       "      <td>40.25</td>\n",
       "      <td>38.75</td>\n",
       "      <td>39.25</td>\n",
       "      <td>0.000000</td>\n",
       "      <td>0.0</td>\n",
       "      <td>0.0</td>\n",
       "      <td>0.0</td>\n",
       "      <td>NaN</td>\n",
       "      <td>NaN</td>\n",
       "      <td>1.50</td>\n",
       "      <td>0.25</td>\n",
       "    </tr>\n",
       "    <tr>\n",
       "      <th>1995-05-30</th>\n",
       "      <td>39.00</td>\n",
       "      <td>40.00</td>\n",
       "      <td>39.00</td>\n",
       "      <td>39.50</td>\n",
       "      <td>0.000000</td>\n",
       "      <td>0.0</td>\n",
       "      <td>0.0</td>\n",
       "      <td>0.0</td>\n",
       "      <td>NaN</td>\n",
       "      <td>NaN</td>\n",
       "      <td>1.00</td>\n",
       "      <td>0.50</td>\n",
       "    </tr>\n",
       "    <tr>\n",
       "      <th>1995-05-31</th>\n",
       "      <td>39.75</td>\n",
       "      <td>40.25</td>\n",
       "      <td>39.50</td>\n",
       "      <td>40.25</td>\n",
       "      <td>0.000000</td>\n",
       "      <td>0.0</td>\n",
       "      <td>0.0</td>\n",
       "      <td>0.0</td>\n",
       "      <td>NaN</td>\n",
       "      <td>NaN</td>\n",
       "      <td>0.75</td>\n",
       "      <td>0.50</td>\n",
       "    </tr>\n",
       "    <tr>\n",
       "      <th>1996-04-02</th>\n",
       "      <td>33.00</td>\n",
       "      <td>35.00</td>\n",
       "      <td>33.00</td>\n",
       "      <td>34.75</td>\n",
       "      <td>33.878745</td>\n",
       "      <td>70100.0</td>\n",
       "      <td>208.0</td>\n",
       "      <td>2374900.0</td>\n",
       "      <td>NaN</td>\n",
       "      <td>NaN</td>\n",
       "      <td>2.00</td>\n",
       "      <td>1.75</td>\n",
       "    </tr>\n",
       "  </tbody>\n",
       "</table>\n",
       "</div>"
      ],
      "text/plain": [
       "             Open   High    Low  Close        WAP  No. of Shares  \\\n",
       "Date                                                               \n",
       "1995-05-26  42.00  45.00  38.50  40.00   0.000000            0.0   \n",
       "1995-05-29  39.00  40.25  38.75  39.25   0.000000            0.0   \n",
       "1995-05-30  39.00  40.00  39.00  39.50   0.000000            0.0   \n",
       "1995-05-31  39.75  40.25  39.50  40.25   0.000000            0.0   \n",
       "1996-04-02  33.00  35.00  33.00  34.75  33.878745        70100.0   \n",
       "\n",
       "            No. of Trades  Total Turnover  Deliverable Quantity  \\\n",
       "Date                                                              \n",
       "1995-05-26            0.0             0.0                   NaN   \n",
       "1995-05-29            0.0             0.0                   NaN   \n",
       "1995-05-30            0.0             0.0                   NaN   \n",
       "1995-05-31            0.0             0.0                   NaN   \n",
       "1996-04-02          208.0       2374900.0                   NaN   \n",
       "\n",
       "            % Deli. Qty to Traded Qty  Spread H-L  Spread C-O  \n",
       "Date                                                           \n",
       "1995-05-26                        NaN        6.50       -2.00  \n",
       "1995-05-29                        NaN        1.50        0.25  \n",
       "1995-05-30                        NaN        1.00        0.50  \n",
       "1995-05-31                        NaN        0.75        0.50  \n",
       "1996-04-02                        NaN        2.00        1.75  "
      ]
     },
     "execution_count": 5,
     "metadata": {},
     "output_type": "execute_result"
    }
   ],
   "source": [
    "data.head()"
   ]
  },
  {
   "cell_type": "code",
   "execution_count": 6,
   "metadata": {},
   "outputs": [
    {
     "data": {
      "text/html": [
       "<div>\n",
       "<style scoped>\n",
       "    .dataframe tbody tr th:only-of-type {\n",
       "        vertical-align: middle;\n",
       "    }\n",
       "\n",
       "    .dataframe tbody tr th {\n",
       "        vertical-align: top;\n",
       "    }\n",
       "\n",
       "    .dataframe thead th {\n",
       "        text-align: right;\n",
       "    }\n",
       "</style>\n",
       "<table border=\"1\" class=\"dataframe\">\n",
       "  <thead>\n",
       "    <tr style=\"text-align: right;\">\n",
       "      <th></th>\n",
       "      <th>Open</th>\n",
       "      <th>High</th>\n",
       "      <th>Low</th>\n",
       "      <th>Close</th>\n",
       "      <th>WAP</th>\n",
       "      <th>No. of Shares</th>\n",
       "      <th>No. of Trades</th>\n",
       "      <th>Total Turnover</th>\n",
       "      <th>Deliverable Quantity</th>\n",
       "      <th>% Deli. Qty to Traded Qty</th>\n",
       "      <th>Spread H-L</th>\n",
       "      <th>Spread C-O</th>\n",
       "    </tr>\n",
       "    <tr>\n",
       "      <th>Date</th>\n",
       "      <th></th>\n",
       "      <th></th>\n",
       "      <th></th>\n",
       "      <th></th>\n",
       "      <th></th>\n",
       "      <th></th>\n",
       "      <th></th>\n",
       "      <th></th>\n",
       "      <th></th>\n",
       "      <th></th>\n",
       "      <th></th>\n",
       "      <th></th>\n",
       "    </tr>\n",
       "  </thead>\n",
       "  <tbody>\n",
       "    <tr>\n",
       "      <th>2019-11-05</th>\n",
       "      <td>1248.00</td>\n",
       "      <td>1248.0</td>\n",
       "      <td>1230.35</td>\n",
       "      <td>1239.40</td>\n",
       "      <td>1237.67</td>\n",
       "      <td>151512.0</td>\n",
       "      <td>4311.0</td>\n",
       "      <td>187522466.0</td>\n",
       "      <td>62204.0</td>\n",
       "      <td>41.06</td>\n",
       "      <td>17.65</td>\n",
       "      <td>-8.60</td>\n",
       "    </tr>\n",
       "    <tr>\n",
       "      <th>2019-11-06</th>\n",
       "      <td>1244.90</td>\n",
       "      <td>1259.0</td>\n",
       "      <td>1228.20</td>\n",
       "      <td>1257.00</td>\n",
       "      <td>1239.29</td>\n",
       "      <td>429391.0</td>\n",
       "      <td>5333.0</td>\n",
       "      <td>532138059.0</td>\n",
       "      <td>310195.0</td>\n",
       "      <td>72.24</td>\n",
       "      <td>30.80</td>\n",
       "      <td>12.10</td>\n",
       "    </tr>\n",
       "    <tr>\n",
       "      <th>2019-11-07</th>\n",
       "      <td>1259.75</td>\n",
       "      <td>1269.6</td>\n",
       "      <td>1249.80</td>\n",
       "      <td>1263.25</td>\n",
       "      <td>1261.86</td>\n",
       "      <td>210691.0</td>\n",
       "      <td>6790.0</td>\n",
       "      <td>265861689.0</td>\n",
       "      <td>81320.0</td>\n",
       "      <td>38.60</td>\n",
       "      <td>19.80</td>\n",
       "      <td>3.50</td>\n",
       "    </tr>\n",
       "    <tr>\n",
       "      <th>2019-11-08</th>\n",
       "      <td>1259.75</td>\n",
       "      <td>1267.0</td>\n",
       "      <td>1251.40</td>\n",
       "      <td>1254.70</td>\n",
       "      <td>1260.10</td>\n",
       "      <td>148960.0</td>\n",
       "      <td>4275.0</td>\n",
       "      <td>187704303.0</td>\n",
       "      <td>50789.0</td>\n",
       "      <td>34.10</td>\n",
       "      <td>15.60</td>\n",
       "      <td>-5.05</td>\n",
       "    </tr>\n",
       "    <tr>\n",
       "      <th>2019-11-11</th>\n",
       "      <td>1255.00</td>\n",
       "      <td>1268.0</td>\n",
       "      <td>1251.00</td>\n",
       "      <td>1263.90</td>\n",
       "      <td>1258.70</td>\n",
       "      <td>131545.0</td>\n",
       "      <td>4055.0</td>\n",
       "      <td>165576240.0</td>\n",
       "      <td>53915.0</td>\n",
       "      <td>40.99</td>\n",
       "      <td>17.00</td>\n",
       "      <td>8.90</td>\n",
       "    </tr>\n",
       "  </tbody>\n",
       "</table>\n",
       "</div>"
      ],
      "text/plain": [
       "               Open    High      Low    Close      WAP  No. of Shares  \\\n",
       "Date                                                                    \n",
       "2019-11-05  1248.00  1248.0  1230.35  1239.40  1237.67       151512.0   \n",
       "2019-11-06  1244.90  1259.0  1228.20  1257.00  1239.29       429391.0   \n",
       "2019-11-07  1259.75  1269.6  1249.80  1263.25  1261.86       210691.0   \n",
       "2019-11-08  1259.75  1267.0  1251.40  1254.70  1260.10       148960.0   \n",
       "2019-11-11  1255.00  1268.0  1251.00  1263.90  1258.70       131545.0   \n",
       "\n",
       "            No. of Trades  Total Turnover  Deliverable Quantity  \\\n",
       "Date                                                              \n",
       "2019-11-05         4311.0     187522466.0               62204.0   \n",
       "2019-11-06         5333.0     532138059.0              310195.0   \n",
       "2019-11-07         6790.0     265861689.0               81320.0   \n",
       "2019-11-08         4275.0     187704303.0               50789.0   \n",
       "2019-11-11         4055.0     165576240.0               53915.0   \n",
       "\n",
       "            % Deli. Qty to Traded Qty  Spread H-L  Spread C-O  \n",
       "Date                                                           \n",
       "2019-11-05                      41.06       17.65       -8.60  \n",
       "2019-11-06                      72.24       30.80       12.10  \n",
       "2019-11-07                      38.60       19.80        3.50  \n",
       "2019-11-08                      34.10       15.60       -5.05  \n",
       "2019-11-11                      40.99       17.00        8.90  "
      ]
     },
     "execution_count": 6,
     "metadata": {},
     "output_type": "execute_result"
    }
   ],
   "source": [
    "data.tail()"
   ]
  },
  {
   "cell_type": "code",
   "execution_count": 7,
   "metadata": {},
   "outputs": [],
   "source": [
    "my_data=data[['Open','Close','No. of Shares','Total Turnover']]"
   ]
  },
  {
   "cell_type": "code",
   "execution_count": 8,
   "metadata": {},
   "outputs": [
    {
     "data": {
      "text/html": [
       "<div>\n",
       "<style scoped>\n",
       "    .dataframe tbody tr th:only-of-type {\n",
       "        vertical-align: middle;\n",
       "    }\n",
       "\n",
       "    .dataframe tbody tr th {\n",
       "        vertical-align: top;\n",
       "    }\n",
       "\n",
       "    .dataframe thead th {\n",
       "        text-align: right;\n",
       "    }\n",
       "</style>\n",
       "<table border=\"1\" class=\"dataframe\">\n",
       "  <thead>\n",
       "    <tr style=\"text-align: right;\">\n",
       "      <th></th>\n",
       "      <th>Open</th>\n",
       "      <th>Close</th>\n",
       "      <th>No. of Shares</th>\n",
       "      <th>Total Turnover</th>\n",
       "    </tr>\n",
       "    <tr>\n",
       "      <th>Date</th>\n",
       "      <th></th>\n",
       "      <th></th>\n",
       "      <th></th>\n",
       "      <th></th>\n",
       "    </tr>\n",
       "  </thead>\n",
       "  <tbody>\n",
       "    <tr>\n",
       "      <th>2019-11-05</th>\n",
       "      <td>1248.00</td>\n",
       "      <td>1239.40</td>\n",
       "      <td>151512.0</td>\n",
       "      <td>187522466.0</td>\n",
       "    </tr>\n",
       "    <tr>\n",
       "      <th>2019-11-06</th>\n",
       "      <td>1244.90</td>\n",
       "      <td>1257.00</td>\n",
       "      <td>429391.0</td>\n",
       "      <td>532138059.0</td>\n",
       "    </tr>\n",
       "    <tr>\n",
       "      <th>2019-11-07</th>\n",
       "      <td>1259.75</td>\n",
       "      <td>1263.25</td>\n",
       "      <td>210691.0</td>\n",
       "      <td>265861689.0</td>\n",
       "    </tr>\n",
       "    <tr>\n",
       "      <th>2019-11-08</th>\n",
       "      <td>1259.75</td>\n",
       "      <td>1254.70</td>\n",
       "      <td>148960.0</td>\n",
       "      <td>187704303.0</td>\n",
       "    </tr>\n",
       "    <tr>\n",
       "      <th>2019-11-11</th>\n",
       "      <td>1255.00</td>\n",
       "      <td>1263.90</td>\n",
       "      <td>131545.0</td>\n",
       "      <td>165576240.0</td>\n",
       "    </tr>\n",
       "  </tbody>\n",
       "</table>\n",
       "</div>"
      ],
      "text/plain": [
       "               Open    Close  No. of Shares  Total Turnover\n",
       "Date                                                       \n",
       "2019-11-05  1248.00  1239.40       151512.0     187522466.0\n",
       "2019-11-06  1244.90  1257.00       429391.0     532138059.0\n",
       "2019-11-07  1259.75  1263.25       210691.0     265861689.0\n",
       "2019-11-08  1259.75  1254.70       148960.0     187704303.0\n",
       "2019-11-11  1255.00  1263.90       131545.0     165576240.0"
      ]
     },
     "execution_count": 8,
     "metadata": {},
     "output_type": "execute_result"
    }
   ],
   "source": [
    "my_data.tail() "
   ]
  },
  {
   "cell_type": "code",
   "execution_count": 9,
   "metadata": {},
   "outputs": [
    {
     "data": {
      "text/plain": [
       "<matplotlib.axes._subplots.AxesSubplot at 0x219a57ffef0>"
      ]
     },
     "execution_count": 9,
     "metadata": {},
     "output_type": "execute_result"
    },
    {
     "data": {
      "image/png": "[encoded data removed]",
      "text/plain": [
       "<Figure size 1152x576 with 1 Axes>"
      ]
     },
     "metadata": {
      "needs_background": "light"
     },
     "output_type": "display_data"
    }
   ],
   "source": [
    "data['Close'].plot(label='HDFC',figsize=(16,8),title='Opening Price')"
   ]
  },
  {
   "cell_type": "code",
   "execution_count": 10,
   "metadata": {},
   "outputs": [
    {
     "name": "stdout",
     "output_type": "stream",
     "text": [
      "            Close\n",
      "Date             \n",
      "1995-05-26  40.00\n",
      "1995-05-29  39.25\n",
      "1995-05-30  39.50\n",
      "1995-05-31  40.25\n",
      "1996-04-02  34.75\n"
     ]
    }
   ],
   "source": [
    "data= data[['Close']]\n",
    "print(data.head())"
   ]
  },
  {
   "cell_type": "code",
   "execution_count": 11,
   "metadata": {},
   "outputs": [
    {
     "name": "stdout",
     "output_type": "stream",
     "text": [
      "              Close  Prediction\n",
      "Date                           \n",
      "2019-11-05  1239.40         NaN\n",
      "2019-11-06  1257.00         NaN\n",
      "2019-11-07  1263.25         NaN\n",
      "2019-11-08  1254.70         NaN\n",
      "2019-11-11  1263.90         NaN\n"
     ]
    }
   ],
   "source": [
    "forecast_out = 30\n",
    "data['Prediction'] = data[['Close']].shift(-forecast_out)\n",
    "print(data.tail())"
   ]
  },
  {
   "cell_type": "code",
   "execution_count": 12,
   "metadata": {},
   "outputs": [
    {
     "name": "stdout",
     "output_type": "stream",
     "text": [
      "[[  40.  ]\n",
      " [  39.25]\n",
      " [  39.5 ]\n",
      " ...\n",
      " [1258.45]\n",
      " [1255.05]\n",
      " [1239.7 ]]\n"
     ]
    }
   ],
   "source": [
    "X = np.array(data.drop(['Prediction'],1))\n",
    "X = X[:-forecast_out]\n",
    "print(X)"
   ]
  },
  {
   "cell_type": "code",
   "execution_count": 13,
   "metadata": {},
   "outputs": [
    {
     "name": "stdout",
     "output_type": "stream",
     "text": [
      "[  34.75   34.75   35.5  ... 1263.25 1254.7  1263.9 ]\n"
     ]
    }
   ],
   "source": [
    "y = np.array(data['Prediction'])\n",
    "y = y[:-forecast_out]\n",
    "print(y)"
   ]
  },
  {
   "cell_type": "code",
   "execution_count": 14,
   "metadata": {},
   "outputs": [],
   "source": [
    "x_train, x_test, y_train, y_test = train_test_split(X, y, test_size=0.2)"
   ]
  },
  {
   "cell_type": "code",
   "execution_count": 15,
   "metadata": {},
   "outputs": [
    {
     "data": {
      "text/plain": [
       "SVR(C=1000.0, cache_size=200, coef0=0.0, degree=3, epsilon=0.1, gamma=0.1,\n",
       "  kernel='rbf', max_iter=-1, shrinking=True, tol=0.001, verbose=False)"
      ]
     },
     "execution_count": 15,
     "metadata": {},
     "output_type": "execute_result"
    }
   ],
   "source": [
    "svr_rbf = SVR(kernel='rbf', C=1e3, gamma=0.1)\n",
    "svr_rbf.fit(x_train, y_train)"
   ]
  },
  {
   "cell_type": "code",
   "execution_count": 16,
   "metadata": {},
   "outputs": [
    {
     "name": "stdout",
     "output_type": "stream",
     "text": [
      "svm confidence:  0.929896899514838\n"
     ]
    }
   ],
   "source": [
    "svm_confidence = svr_rbf.score(x_test, y_test)\n",
    "print(\"svm confidence: \", svm_confidence)"
   ]
  },
  {
   "cell_type": "code",
   "execution_count": 17,
   "metadata": {},
   "outputs": [
    {
     "data": {
      "text/plain": [
       "LinearRegression(copy_X=True, fit_intercept=True, n_jobs=None,\n",
       "         normalize=False)"
      ]
     },
     "execution_count": 17,
     "metadata": {},
     "output_type": "execute_result"
    }
   ],
   "source": [
    "lr = LinearRegression()\n",
    "lr.fit(x_train, y_train)"
   ]
  },
  {
   "cell_type": "code",
   "execution_count": 18,
   "metadata": {},
   "outputs": [
    {
     "name": "stdout",
     "output_type": "stream",
     "text": [
      "lr confidence:  0.9405655906877928\n"
     ]
    }
   ],
   "source": [
    "lr_confidence = lr.score(x_test, y_test)\n",
    "print(\"lr confidence: \", lr_confidence)"
   ]
  },
  {
   "cell_type": "code",
   "execution_count": 19,
   "metadata": {},
   "outputs": [
    {
     "name": "stdout",
     "output_type": "stream",
     "text": [
      "[[1242.35]\n",
      " [1244.15]\n",
      " [1227.35]\n",
      " [1248.5 ]\n",
      " [1223.05]\n",
      " [1188.95]\n",
      " [1187.65]\n",
      " [1228.5 ]\n",
      " [1199.95]\n",
      " [1198.55]\n",
      " [1203.15]\n",
      " [1222.9 ]\n",
      " [1221.2 ]\n",
      " [1220.8 ]\n",
      " [1229.2 ]\n",
      " [1238.65]\n",
      " [1241.4 ]\n",
      " [1235.95]\n",
      " [1228.7 ]\n",
      " [1238.  ]\n",
      " [1242.15]\n",
      " [1248.45]\n",
      " [1229.95]\n",
      " [1240.35]\n",
      " [1236.65]\n",
      " [1239.4 ]\n",
      " [1257.  ]\n",
      " [1263.25]\n",
      " [1254.7 ]\n",
      " [1263.9 ]]\n"
     ]
    }
   ],
   "source": [
    "x_forecast = np.array(data.drop(['Prediction'],1))[-forecast_out:]\n",
    "print(x_forecast)"
   ]
  },
  {
   "cell_type": "code",
   "execution_count": 20,
   "metadata": {
    "scrolled": false
   },
   "outputs": [
    {
     "name": "stdout",
     "output_type": "stream",
     "text": [
      "[1232.66194636 1234.39028671 1218.25911014 1238.56710921 1214.13029709\n",
      " 1181.38784942 1180.13960362 1219.36332759 1191.94992932 1190.6056646\n",
      " 1195.02253438 1213.98626873 1212.35394729 1211.96987166 1220.03545994\n",
      " 1229.10924676 1231.74976673 1226.51673624 1219.5553654  1228.48512386\n",
      " 1232.46990855 1238.51909976 1220.75560175 1230.7415682  1227.1888686\n",
      " 1229.82938857 1246.7287164  1252.72989816 1244.52028152 1253.35402106]\n",
      "[1200.26227014 1193.65057575 1361.75114345 1282.30015964 1234.19036001\n",
      " 1332.80824074 1285.77873385 1280.88417763 1234.77762718 1224.8650817\n",
      " 1085.69670572 1234.77678918 1276.22485558 1291.28326053 1228.8182493\n",
      " 1261.16079639 1232.97089521 1333.47976998 1264.27338611 1264.2460361\n",
      " 1206.60779991 1282.04406205 1208.28669983 1259.55768778 1302.30096335\n",
      " 1263.6071635  1197.03128715 1308.96320977 1192.76494719 1291.15511258]\n"
     ]
    }
   ],
   "source": [
    "lr_prediction = lr.predict(x_forecast)\n",
    "print(lr_prediction)\n",
    "svm_prediction = svr_rbf.predict(x_forecast)\n",
    "print(svm_prediction)"
   ]
  },
  {
   "cell_type": "code",
   "execution_count": null,
   "metadata": {},
   "outputs": [],
   "source": []
  }
 ],
 "metadata": {
  "kernelspec": {
   "display_name": "Python 3",
   "language": "python",
   "name": "python3"
  },
  "language_info": {
   "codemirror_mode": {
    "name": "ipython",
    "version": 3
   },
   "file_extension": ".py",
   "mimetype": "text/x-python",
   "name": "python",
   "nbconvert_exporter": "python",
   "pygments_lexer": "ipython3",
   "version": "3.7.3"
  }
 },
 "nbformat": 4,
 "nbformat_minor": 2
}
